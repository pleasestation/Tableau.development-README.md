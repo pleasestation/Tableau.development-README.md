{
 "cells": [
  {
   "cell_type": "markdown",
   "metadata": {},
   "source": [
    "### SQL Query and Output\n",
    "\n",
    "```sql\n",
    "WITH active_users AS (\n",
    "    SELECT \n",
    "        country,\n",
    "        COUNT(*) AS active_user_count\n",
    "    FROM \n",
    "        penetration_analysis\n",
    "    WHERE \n",
    "        last_active_date >= DATEADD(DAY, -30, CAST('2024-01-31' AS DATE))  -- Adjusted to use DATEADD for date calculation\n",
    "        AND sessions >= 5\n",
    "        AND listening_hours >= 10\n",
    "    GROUP BY \n",
    "        country\n",
    "),\n",
    "total_users AS (\n",
    "    SELECT \n",
    "        country,\n",
    "        COUNT(*) AS total_user_count\n",
    "    FROM \n",
    "        penetration_analysis\n",
    "    GROUP BY \n",
    "        country\n",
    ")\n",
    "SELECT \n",
    "    t.country,\n",
    "    ROUND(\n",
    "        (CAST(a.active_user_count AS FLOAT) / NULLIF(CAST(t.total_user_count AS FLOAT), 0)) * 100, \n",
    "        2\n",
    "    ) AS active_user_penetration_rate  -- Added NULLIF to handle division by zero\n",
    "FROM \n",
    "    total_users t\n",
    "    LEFT JOIN active_users a ON t.country = a.country\n",
    "ORDER BY \n",
    "    active_user_penetration_rate DESC"
   ]
  },
  {
   "cell_type": "markdown",
   "metadata": {},
   "source": [
    "### OUTPUT\n",
    "\n",
    "| Country  | Active User Penetration Rate |\n",
    "|----------|------------------------------|\n",
    "| France   | 50.52%                       |\n",
    "| Japan    | 45.05%                       |\n",
    "| Brazil   | 42.86%                       |\n",
    "| Germany  | 42.25%                       |\n",
    "| USA      | 40.68%                       |\n"
   ]
  },
  {
   "cell_type": "markdown",
   "metadata": {},
   "source": []
  }
 ],
 "metadata": {
  "language_info": {
   "name": "python"
  }
 },
 "nbformat": 4,
 "nbformat_minor": 2
}
